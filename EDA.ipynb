{
 "cells": [
  {
   "cell_type": "markdown",
   "id": "c3a7fedd-b174-4f51-9146-9f0328b2dd2a",
   "metadata": {},
   "source": [
    "# EDA - анализ французского рынка автомобилей\n",
    "\n",
    "Проект подготовлен в качестве одного из заданий вступительных испытаний на Тинькофф Образование на курс Машинное обучение и Глубокое обучение. \n",
    "\n",
    "__Автор:__ Потапов Иван Сергвеевич :sunglasses: :facepunch: :smiley_cat:\n",
    "\n",
    "__Дата окончания:__ _\n",
    "\n",
    "\n",
    "Здесь мы будем исследовать данные по французскому рынку поддержанных автомобилей. \n",
    "\n",
    "Самы данные можно найти в источнике по [ссылке](https://www.kaggle.com/spicemix/french-second-hand-car)."
   ]
  },
  {
   "cell_type": "code",
   "execution_count": 985,
   "id": "cabac023-0c60-4fa7-b820-be3ccf426e2b",
   "metadata": {
    "tags": []
   },
   "outputs": [],
   "source": [
    "import numpy as np\n",
    "import pandas as pd\n",
    "import warnings\n",
    "import collections\n",
    "import seaborn as sns\n",
    "import matplotlib.pyplot as plt\n",
    "\n",
    "warnings.simplefilter(\"ignore\", UserWarning)"
   ]
  },
  {
   "cell_type": "markdown",
   "id": "b4c39987-aa5e-4192-b787-c505413ce33c",
   "metadata": {},
   "source": [
    "Считываем данные и выводим первые строки."
   ]
  },
  {
   "cell_type": "code",
   "execution_count": 986,
   "id": "22dc8c64-6be0-4ed8-a322-2fa45c435985",
   "metadata": {},
   "outputs": [
    {
     "data": {
      "text/html": [
       "<div>\n",
       "<style scoped>\n",
       "    .dataframe tbody tr th:only-of-type {\n",
       "        vertical-align: middle;\n",
       "    }\n",
       "\n",
       "    .dataframe tbody tr th {\n",
       "        vertical-align: top;\n",
       "    }\n",
       "\n",
       "    .dataframe thead th {\n",
       "        text-align: right;\n",
       "    }\n",
       "</style>\n",
       "<table border=\"1\" class=\"dataframe\">\n",
       "  <thead>\n",
       "    <tr style=\"text-align: right;\">\n",
       "      <th></th>\n",
       "      <th>publishedsince</th>\n",
       "      <th>carmodel</th>\n",
       "      <th>price</th>\n",
       "      <th>année</th>\n",
       "      <th>miseencirculation</th>\n",
       "      <th>contrôletechnique</th>\n",
       "      <th>kilométragecompteur</th>\n",
       "      <th>énergie</th>\n",
       "      <th>boîtedevitesse</th>\n",
       "      <th>couleurextérieure</th>\n",
       "      <th>...</th>\n",
       "      <th>conso.batterie</th>\n",
       "      <th>couleurintérieure</th>\n",
       "      <th>puissancemoteur</th>\n",
       "      <th>primeàlaconversion</th>\n",
       "      <th>garantieconstructeur</th>\n",
       "      <th>provenance</th>\n",
       "      <th>prixinclutlabatterie</th>\n",
       "      <th>voltagebatterie</th>\n",
       "      <th>intensitébatterie</th>\n",
       "      <th>prixinclutlabatterie.1</th>\n",
       "    </tr>\n",
       "  </thead>\n",
       "  <tbody>\n",
       "    <tr>\n",
       "      <th>0</th>\n",
       "      <td>2 jours</td>\n",
       "      <td>\\n    RENAULT TWINGO 3\\n</td>\n",
       "      <td>\\n          11 080 €\\n</td>\n",
       "      <td>2020.0</td>\n",
       "      <td>17/07/2020</td>\n",
       "      <td>non requis</td>\n",
       "      <td>27 297 Km</td>\n",
       "      <td>Essence</td>\n",
       "      <td>mécanique</td>\n",
       "      <td>gris</td>\n",
       "      <td>...</td>\n",
       "      <td>NaN</td>\n",
       "      <td>NaN</td>\n",
       "      <td>NaN</td>\n",
       "      <td>NaN</td>\n",
       "      <td>NaN</td>\n",
       "      <td>NaN</td>\n",
       "      <td>NaN</td>\n",
       "      <td>NaN</td>\n",
       "      <td>NaN</td>\n",
       "      <td>NaN</td>\n",
       "    </tr>\n",
       "    <tr>\n",
       "      <th>1</th>\n",
       "      <td>5 jours</td>\n",
       "      <td>\\n    BMW SERIE 4 F36 GRAN COUPE\\n</td>\n",
       "      <td>\\n          50 690 €\\n</td>\n",
       "      <td>2019.0</td>\n",
       "      <td>27/04/2019</td>\n",
       "      <td>non requis</td>\n",
       "      <td>59 778 Km</td>\n",
       "      <td>Diesel</td>\n",
       "      <td>automatique</td>\n",
       "      <td>Saphirschwarz</td>\n",
       "      <td>...</td>\n",
       "      <td>NaN</td>\n",
       "      <td>NaN</td>\n",
       "      <td>NaN</td>\n",
       "      <td>NaN</td>\n",
       "      <td>NaN</td>\n",
       "      <td>NaN</td>\n",
       "      <td>NaN</td>\n",
       "      <td>NaN</td>\n",
       "      <td>NaN</td>\n",
       "      <td>NaN</td>\n",
       "    </tr>\n",
       "    <tr>\n",
       "      <th>2</th>\n",
       "      <td>19 jours</td>\n",
       "      <td>\\n    BMW SERIE 2 F45 ACTIVE TOURER\\n</td>\n",
       "      <td>\\n          19 740 €\\n</td>\n",
       "      <td>2017.0</td>\n",
       "      <td>14/05/2017</td>\n",
       "      <td>requis</td>\n",
       "      <td>128 835 Km</td>\n",
       "      <td>Hybride essence électrique</td>\n",
       "      <td>automatique</td>\n",
       "      <td>gris metal</td>\n",
       "      <td>...</td>\n",
       "      <td>11 kWh/100km</td>\n",
       "      <td>cuir noir</td>\n",
       "      <td>165 kW</td>\n",
       "      <td></td>\n",
       "      <td>NaN</td>\n",
       "      <td>NaN</td>\n",
       "      <td>NaN</td>\n",
       "      <td>NaN</td>\n",
       "      <td>NaN</td>\n",
       "      <td>NaN</td>\n",
       "    </tr>\n",
       "    <tr>\n",
       "      <th>3</th>\n",
       "      <td>8 jours</td>\n",
       "      <td>\\n    RENAULT TRAFIC 2 MINIBUS\\n</td>\n",
       "      <td>\\n          13 890 €\\n</td>\n",
       "      <td>2007.0</td>\n",
       "      <td>11/05/2007</td>\n",
       "      <td>requis</td>\n",
       "      <td>225 334 Km</td>\n",
       "      <td>Diesel</td>\n",
       "      <td>mécanique</td>\n",
       "      <td>GRIS F</td>\n",
       "      <td>...</td>\n",
       "      <td>NaN</td>\n",
       "      <td>GRIS</td>\n",
       "      <td>NaN</td>\n",
       "      <td>NaN</td>\n",
       "      <td>NaN</td>\n",
       "      <td>NaN</td>\n",
       "      <td>NaN</td>\n",
       "      <td>NaN</td>\n",
       "      <td>NaN</td>\n",
       "      <td>NaN</td>\n",
       "    </tr>\n",
       "    <tr>\n",
       "      <th>4</th>\n",
       "      <td>60 jours</td>\n",
       "      <td>\\n    CITROEN C3 (3E GENERATION)\\n</td>\n",
       "      <td>\\n          16 780 €\\n</td>\n",
       "      <td>2020.0</td>\n",
       "      <td>20/01/2021</td>\n",
       "      <td>non requis</td>\n",
       "      <td>14 218 Km</td>\n",
       "      <td>Essence</td>\n",
       "      <td>mécanique</td>\n",
       "      <td>gris foncé</td>\n",
       "      <td>...</td>\n",
       "      <td>NaN</td>\n",
       "      <td>NaN</td>\n",
       "      <td>NaN</td>\n",
       "      <td></td>\n",
       "      <td>NaN</td>\n",
       "      <td>NaN</td>\n",
       "      <td>NaN</td>\n",
       "      <td>NaN</td>\n",
       "      <td>NaN</td>\n",
       "      <td>NaN</td>\n",
       "    </tr>\n",
       "  </tbody>\n",
       "</table>\n",
       "<p>5 rows × 40 columns</p>\n",
       "</div>"
      ],
      "text/plain": [
       "  publishedsince                               carmodel  \\\n",
       "0        2 jours               \\n    RENAULT TWINGO 3\\n   \n",
       "1        5 jours     \\n    BMW SERIE 4 F36 GRAN COUPE\\n   \n",
       "2       19 jours  \\n    BMW SERIE 2 F45 ACTIVE TOURER\\n   \n",
       "3        8 jours       \\n    RENAULT TRAFIC 2 MINIBUS\\n   \n",
       "4       60 jours     \\n    CITROEN C3 (3E GENERATION)\\n   \n",
       "\n",
       "                            price   année miseencirculation contrôletechnique  \\\n",
       "0  \\n          11 080 €\\n          2020.0        17/07/2020        non requis   \n",
       "1  \\n          50 690 €\\n          2019.0        27/04/2019        non requis   \n",
       "2  \\n          19 740 €\\n          2017.0        14/05/2017            requis   \n",
       "3  \\n          13 890 €\\n          2007.0        11/05/2007            requis   \n",
       "4  \\n          16 780 €\\n          2020.0        20/01/2021        non requis   \n",
       "\n",
       "  kilométragecompteur                      énergie boîtedevitesse  \\\n",
       "0           27 297 Km                      Essence      mécanique   \n",
       "1           59 778 Km                       Diesel    automatique   \n",
       "2          128 835 Km   Hybride essence électrique    automatique   \n",
       "3          225 334 Km                       Diesel      mécanique   \n",
       "4           14 218 Km                      Essence      mécanique   \n",
       "\n",
       "  couleurextérieure  ...  conso.batterie  couleurintérieure puissancemoteur  \\\n",
       "0              gris  ...             NaN                NaN             NaN   \n",
       "1     Saphirschwarz  ...             NaN                NaN             NaN   \n",
       "2        gris metal  ...    11 kWh/100km          cuir noir          165 kW   \n",
       "3            GRIS F  ...             NaN               GRIS             NaN   \n",
       "4        gris foncé  ...             NaN                NaN             NaN   \n",
       "\n",
       "  primeàlaconversion  garantieconstructeur provenance prixinclutlabatterie  \\\n",
       "0                NaN                   NaN        NaN                  NaN   \n",
       "1                NaN                   NaN        NaN                  NaN   \n",
       "2                                      NaN        NaN                  NaN   \n",
       "3                NaN                   NaN        NaN                  NaN   \n",
       "4                                      NaN        NaN                  NaN   \n",
       "\n",
       "   voltagebatterie intensitébatterie prixinclutlabatterie.1  \n",
       "0              NaN               NaN                    NaN  \n",
       "1              NaN               NaN                    NaN  \n",
       "2              NaN               NaN                    NaN  \n",
       "3              NaN               NaN                    NaN  \n",
       "4              NaN               NaN                    NaN  \n",
       "\n",
       "[5 rows x 40 columns]"
      ]
     },
     "execution_count": 986,
     "metadata": {},
     "output_type": "execute_result"
    }
   ],
   "source": [
    "data = pd.read_csv('dataset.csv')\n",
    "data.head()"
   ]
  },
  {
   "cell_type": "markdown",
   "id": "5fe5e1c6-27c1-4efe-a3fb-d157adda3766",
   "metadata": {},
   "source": [
    "Выведем основную информацию о датасете и сделаем некоторые выводы."
   ]
  },
  {
   "cell_type": "code",
   "execution_count": 987,
   "id": "6875c874-3354-4d44-a72c-3a21e1fad6c4",
   "metadata": {},
   "outputs": [
    {
     "data": {
      "text/plain": [
       "(2441, 40)"
      ]
     },
     "execution_count": 987,
     "metadata": {},
     "output_type": "execute_result"
    }
   ],
   "source": [
    "data.shape"
   ]
  },
  {
   "cell_type": "code",
   "execution_count": 988,
   "id": "ecc9ace0-d4a3-46af-8b9d-c29b459e12de",
   "metadata": {},
   "outputs": [
    {
     "name": "stdout",
     "output_type": "stream",
     "text": [
      "<class 'pandas.core.frame.DataFrame'>\n",
      "RangeIndex: 2441 entries, 0 to 2440\n",
      "Data columns (total 40 columns):\n",
      " #   Column                    Non-Null Count  Dtype  \n",
      "---  ------                    --------------  -----  \n",
      " 0   publishedsince            2441 non-null   object \n",
      " 1   carmodel                  2441 non-null   object \n",
      " 2   price                     2441 non-null   object \n",
      " 3   année                     2440 non-null   float64\n",
      " 4   miseencirculation         2440 non-null   object \n",
      " 5   contrôletechnique         2440 non-null   object \n",
      " 6   kilométragecompteur       2440 non-null   object \n",
      " 7   énergie                   2440 non-null   object \n",
      " 8   boîtedevitesse            2440 non-null   object \n",
      " 9   couleurextérieure         2440 non-null   object \n",
      " 10  nombredeportes            2436 non-null   float64\n",
      " 11  nombredeplaces            2362 non-null   float64\n",
      " 12  garantie                  2062 non-null   object \n",
      " 13  premièremain(déclaratif)  2440 non-null   object \n",
      " 14  nombredepropriétaires     970 non-null    float64\n",
      " 15  puissancefiscale          2434 non-null   object \n",
      " 16  puissancedin              2370 non-null   object \n",
      " 17  crit'air                  2363 non-null   float64\n",
      " 18  émissionsdeco2            2234 non-null   object \n",
      " 19  consommationmixte         2124 non-null   object \n",
      " 20  normeeuro                 2365 non-null   object \n",
      " 21  options                   2441 non-null   object \n",
      " 22  departement               2441 non-null   int64  \n",
      " 23  id                        2441 non-null   int64  \n",
      " 24  waranty                   2252 non-null   object \n",
      " 25  vendeur                   2441 non-null   object \n",
      " 26  vérifié&garanti           431 non-null    object \n",
      " 27  rechargeable              185 non-null    object \n",
      " 28  autonomiebatterie         101 non-null    object \n",
      " 29  capacitébatterie          157 non-null    object \n",
      " 30  conso.batterie            66 non-null     object \n",
      " 31  couleurintérieure         1144 non-null   object \n",
      " 32  puissancemoteur           418 non-null    object \n",
      " 33  primeàlaconversion        410 non-null    object \n",
      " 34  garantieconstructeur      695 non-null    object \n",
      " 35  provenance                118 non-null    object \n",
      " 36  prixinclutlabatterie      141 non-null    object \n",
      " 37  voltagebatterie           111 non-null    object \n",
      " 38  intensitébatterie         59 non-null     object \n",
      " 39  prixinclutlabatterie.1    3 non-null      object \n",
      "dtypes: float64(5), int64(2), object(33)\n",
      "memory usage: 762.9+ KB\n"
     ]
    }
   ],
   "source": [
    "data.info()"
   ]
  },
  {
   "cell_type": "markdown",
   "id": "f57ec9b5-c377-41b0-9e88-6f7470ba0309",
   "metadata": {},
   "source": [
    "# Comments\n",
    "\n",
    "\n",
    "# 1. Предобработка данных"
   ]
  },
  {
   "cell_type": "code",
   "execution_count": 989,
   "id": "91ca4f28-6e56-4419-9b39-798ff2008140",
   "metadata": {},
   "outputs": [],
   "source": [
    "data.drop(['vérifié&garanti', 'rechargeable', 'autonomiebatterie',\n",
    "       'capacitébatterie', 'conso.batterie', 'couleurintérieure',\n",
    "       'puissancemoteur', 'primeàlaconversion', 'garantieconstructeur',\n",
    "       'provenance', 'prixinclutlabatterie', 'voltagebatterie',\n",
    "       'intensitébatterie', 'prixinclutlabatterie.1', 'nombredepropriétaires', 'id'], axis = 1, inplace = True)"
   ]
  },
  {
   "cell_type": "markdown",
   "id": "4f6448d3-c2cf-4591-8aa5-1fb20c1af8bd",
   "metadata": {},
   "source": [
    "Датасет очень плохо адаптирован для работы, плюс он весь на французском языке. Для того, чтобы иметь возможность дальше с ним работать, переведем названия столбцов и приведем значения в строках в приятный вид."
   ]
  },
  {
   "cell_type": "code",
   "execution_count": 990,
   "id": "d020f41f-d57a-43ac-bc37-00d20bdc1ad3",
   "metadata": {},
   "outputs": [],
   "source": [
    "columns = {'publishedsince': 'published since',\n",
    "          'carmodel' : 'car model',\n",
    "          'année' : 'year',\n",
    "          'miseencirculation' : 'first registrarion date',\n",
    "          'contrôletechnique': 'needs a technical check',\n",
    "          'kilométragecompteur' : 'mileage meter',\n",
    "          'énergie' : 'energy type',\n",
    "          'boîtedevitesse' : 'speed box',\n",
    "          'couleurextérieure' : 'colour',\n",
    "          'nombredeportes' : 'number of doors',\n",
    "          'nombredeplaces' : 'number of places',\n",
    "          'premièremain(déclaratif)' : 'first hand',\n",
    "          'puissancefiscale' : 'power classification',\n",
    "          'puissancedin' : 'horsepower',\n",
    "          \"crit'air\" : 'air pollution metric',\n",
    "          'émissionsdeco2' : 'CO2 emission',\n",
    "          'consommationmixte' : 'consumption' ,\n",
    "          'normeeuro' : 'euro norm',\n",
    "          'options' : 'options',\n",
    "          'vendeur' : 'seller'\n",
    "          }\n",
    "\n",
    "data.rename(columns = columns, inplace=True)"
   ]
  },
  {
   "cell_type": "markdown",
   "id": "793f1014-e303-473e-8fbc-cb3ea7a3a8e7",
   "metadata": {},
   "source": [
    "Во всех строках переменной __price__  тип данных - текст, хорошо, что во многих из них достаточно удалить лишние символы и установить численный тип. Однако в паре десятков записей хранится сразу две цены: до и после вычета налога, и тут нужно узнать, какое из значений нам подходит. Немного посерфив в интернете, мы поняли, что интернет магазины устанавливают цену для покупателя, а налог платит продавец, следовательно, записи должны отображать стоимость автомобиля с прибавленным налогом (большее значение). Нужное нам число идет первым в строке, его и достаем."
   ]
  },
  {
   "cell_type": "code",
   "execution_count": 991,
   "id": "d13510bf-fb59-4a76-bb9c-32d9348ec5ec",
   "metadata": {},
   "outputs": [
    {
     "name": "stderr",
     "output_type": "stream",
     "text": [
      "<ipython-input-991-847c6af8a45a>:4: SettingWithCopyWarning: \n",
      "A value is trying to be set on a copy of a slice from a DataFrame\n",
      "\n",
      "See the caveats in the documentation: https://pandas.pydata.org/pandas-docs/stable/user_guide/indexing.html#returning-a-view-versus-a-copy\n",
      "  data['price'][i] = int(data['price'][i].replace('€', '').strip().replace(' ',''))\n",
      "<ipython-input-991-847c6af8a45a>:7: SettingWithCopyWarning: \n",
      "A value is trying to be set on a copy of a slice from a DataFrame\n",
      "\n",
      "See the caveats in the documentation: https://pandas.pydata.org/pandas-docs/stable/user_guide/indexing.html#returning-a-view-versus-a-copy\n",
      "  data['price'][i] = int(str(s[ : s.index('\\xa0')]).replace(' ',''))\n"
     ]
    }
   ],
   "source": [
    "s = []\n",
    "for i in range(data.shape[0]):\n",
    "    try:\n",
    "        data['price'][i] = int(data['price'][i].replace('€', '').strip().replace(' ',''))\n",
    "    except:\n",
    "        s = data['price'][i]\n",
    "        data['price'][i] = int(str(s[ : s.index('\\xa0')]).replace(' ',''))\n"
   ]
  },
  {
   "cell_type": "markdown",
   "id": "9c765a4f-83a1-44e2-9aba-e5ceeb72f236",
   "metadata": {},
   "source": [
    "Признак __options__ обещает быть очень интересным, он содержит в себе набор опций, включенных в машину, если предположение о том, что каждая запись включает в себя слова из стандартизированного набора, окажется верной, мы сможем создать ряд новых бинарных признаков, содержащих информацию о том, включена ли данная опция в машину. Попробуем проверить наш план на реализуемость."
   ]
  },
  {
   "cell_type": "code",
   "execution_count": 992,
   "id": "a4c9db00-15c9-4814-92a4-65d3a068a3f7",
   "metadata": {
    "tags": []
   },
   "outputs": [
    {
     "name": "stderr",
     "output_type": "stream",
     "text": [
      "<ipython-input-992-5bb09fa72595>:6: SettingWithCopyWarning: \n",
      "A value is trying to be set on a copy of a slice from a DataFrame\n",
      "\n",
      "See the caveats in the documentation: https://pandas.pydata.org/pandas-docs/stable/user_guide/indexing.html#returning-a-view-versus-a-copy\n",
      "  data['options'][i] = l\n"
     ]
    },
    {
     "data": {
      "text/plain": [
       "13072"
      ]
     },
     "execution_count": 992,
     "metadata": {},
     "output_type": "execute_result"
    }
   ],
   "source": [
    "s = set()\n",
    "for i in range(2441):\n",
    "    l = list(map(lambda s: s.strip().replace(\"'\", '').replace('[','').replace(']','').lower(), data['options'][i].split(\",\")))\n",
    "    for item in l:\n",
    "        s.add(item)\n",
    "    data['options'][i] = l\n",
    "len(s)"
   ]
  },
  {
   "cell_type": "markdown",
   "id": "600295ee-5994-4224-92f3-e11c954a2447",
   "metadata": {},
   "source": [
    "Оченб грустно((\n",
    "\n",
    "Набор не содержит в себе ключевые слова из заранее сформированного списка, о чем свидетельствует более 13 тысяч уникальных значений множества опций. К сожалению, мы не сможем работать со всеми пунктами сразу, но мы попробуем проанализировать распределение наиболее частых.\n",
    "\n",
    "Признак __seller__ имеет всего одно уникальное значение - информативным не является. Тоже выкидываем."
   ]
  },
  {
   "cell_type": "code",
   "execution_count": 993,
   "id": "354ae32f-b91d-4b08-af38-a5d57de7dc4b",
   "metadata": {},
   "outputs": [],
   "source": [
    "data.drop(['seller'], axis = 1, inplace = True)"
   ]
  },
  {
   "cell_type": "markdown",
   "id": "4d882285-b75d-46e3-8314-7514860fed7f",
   "metadata": {},
   "source": [
    "Остальные параметры без труда преобразуем, удаляя пробелы и другие лишние подстроки, меняя тип данных."
   ]
  },
  {
   "cell_type": "code",
   "execution_count": 994,
   "id": "c5fa94a7-782f-48dc-9d62-af4c398d3ec7",
   "metadata": {},
   "outputs": [],
   "source": [
    "data['published since'] = data['published since'].apply(lambda s:  s.replace('jours', '').replace('jour', '')).astype(int) #Оставляем только количество дней в колонке' publishedsince'\n",
    "data['car model'] = data['car model'].apply(lambda s:  s.replace('\\n', ''))\n",
    "data['year'] = data['year'].fillna(-1).astype(int)\n",
    "data['colour'] = data['colour'].astype(str).apply(lambda s:  s.strip().lower())\n",
    "data['first registrarion date'] = pd.to_datetime(data['first registrarion date'])\n",
    "data['needs a technical check'] = data['needs a technical check'].replace({' non requis':0, ' requis': 1, None : -1}).astype(str)\n",
    "data['mileage meter'] = data['mileage meter'].fillna(-1).astype(str).apply(lambda s: s.replace('Km', '')).apply(lambda s: s.replace(' ', '')).astype(int)\n",
    "data['energy type'] = data['energy type'].fillna('-1').apply(lambda s: s.replace(' ', ''))\n",
    "data['speed box'] = data['speed box'].replace({None : '-1', ' ' : '-1'}).apply(lambda s: s.replace(' ', '')) \n",
    "data['garantie'] = data['garantie'].fillna('-1').apply(lambda s: s.replace(' ', '')).apply(lambda s: s.replace('mois', '')).astype(int)\n",
    "data['first hand'] = data['first hand'].replace({None : '-1', ' oui' : 1, ' non' : 0}).astype(int)\n",
    "data['power classification'] = data['power classification'].replace({None : '-1'}).apply(lambda s: s.replace(' CV', '')).astype(int)\n",
    "data['horsepower'] = data['horsepower'].fillna('-1').apply(lambda s: s.replace(' ch', '')).astype(int)\n",
    "data['consumption'] = data['consumption'].fillna('-1').apply(lambda s: s.replace(' l/100km', '').strip()).astype(float)\n",
    "data['euro norm'] = data['euro norm'].fillna('-1').apply(lambda s: s.strip())\n",
    "data['number of doors'] = data['number of doors'].fillna(-1)\n",
    "data['number of places'] = data['number of places'].fillna(-1)\n",
    "data['CO2 emission'] = data['CO2 emission'].fillna('-1').apply(lambda s: s.replace(' g/kmB', '')).apply(lambda s: s.replace(' g/kmD', '')).apply(lambda s: s.replace(' g/kmG', '')).apply(lambda s: s.replace(' g/kmA', '')).apply(lambda s: s.replace(' g/kmE', '')).apply(lambda s: s.replace(' g/kmC', '')).apply(lambda s: s.replace(' g/kmF', '')).astype(int)\n",
    "data['air pollution metric'] = data['air pollution metric'].fillna(-1).astype(str)"
   ]
  },
  {
   "cell_type": "markdown",
   "id": "88a2e257-de7b-48e3-a735-d768c7fa839e",
   "metadata": {},
   "source": [
    "Параметр __waranty__ очень легко избавить от лишних слов и оставить только число, но одним из уникальных значений является _'Garantie constructeur'_, такой вид гарантии в среднем имеет срок дейсвтия 3 года, но может быть сорван раньше срока, если наступят условия одного из условий. Нам ничего не остается, как заполнить эту ячейку так же как и пропуск, которые мы будем обрабатывать позднее."
   ]
  },
  {
   "cell_type": "code",
   "execution_count": 995,
   "id": "cc43cf9a-54dd-41f4-ad4a-a28bfaaf5d67",
   "metadata": {},
   "outputs": [],
   "source": [
    "data['waranty'] = data['waranty'].fillna('-1').replace('Garantie constructeur', '-1').apply(lambda s: s.replace('Garantie','').replace('mois','').strip()).astype(int)"
   ]
  },
  {
   "cell_type": "code",
   "execution_count": 996,
   "id": "856a51e8-3fad-445d-95f5-758a001da442",
   "metadata": {
    "tags": []
   },
   "outputs": [
    {
     "data": {
      "text/html": [
       "<div>\n",
       "<style scoped>\n",
       "    .dataframe tbody tr th:only-of-type {\n",
       "        vertical-align: middle;\n",
       "    }\n",
       "\n",
       "    .dataframe tbody tr th {\n",
       "        vertical-align: top;\n",
       "    }\n",
       "\n",
       "    .dataframe thead th {\n",
       "        text-align: right;\n",
       "    }\n",
       "</style>\n",
       "<table border=\"1\" class=\"dataframe\">\n",
       "  <thead>\n",
       "    <tr style=\"text-align: right;\">\n",
       "      <th></th>\n",
       "      <th>published since</th>\n",
       "      <th>car model</th>\n",
       "      <th>price</th>\n",
       "      <th>year</th>\n",
       "      <th>first registrarion date</th>\n",
       "      <th>needs a technical check</th>\n",
       "      <th>mileage meter</th>\n",
       "      <th>energy type</th>\n",
       "      <th>speed box</th>\n",
       "      <th>colour</th>\n",
       "      <th>...</th>\n",
       "      <th>first hand</th>\n",
       "      <th>power classification</th>\n",
       "      <th>horsepower</th>\n",
       "      <th>air pollution metric</th>\n",
       "      <th>CO2 emission</th>\n",
       "      <th>consumption</th>\n",
       "      <th>euro norm</th>\n",
       "      <th>options</th>\n",
       "      <th>departement</th>\n",
       "      <th>waranty</th>\n",
       "    </tr>\n",
       "  </thead>\n",
       "  <tbody>\n",
       "    <tr>\n",
       "      <th>0</th>\n",
       "      <td>2</td>\n",
       "      <td>RENAULT TWINGO 3</td>\n",
       "      <td>11080</td>\n",
       "      <td>2020</td>\n",
       "      <td>2020-07-17</td>\n",
       "      <td>0</td>\n",
       "      <td>27297</td>\n",
       "      <td>Essence</td>\n",
       "      <td>mécanique</td>\n",
       "      <td>gris</td>\n",
       "      <td>...</td>\n",
       "      <td>1</td>\n",
       "      <td>5</td>\n",
       "      <td>90</td>\n",
       "      <td>1.0</td>\n",
       "      <td>111</td>\n",
       "      <td>4.9</td>\n",
       "      <td>EURO6</td>\n",
       "      <td>[airbags frontaux, esp, afu, fixations isofix,...</td>\n",
       "      <td>35</td>\n",
       "      <td>12</td>\n",
       "    </tr>\n",
       "    <tr>\n",
       "      <th>1</th>\n",
       "      <td>5</td>\n",
       "      <td>BMW SERIE 4 F36 GRAN COUPE</td>\n",
       "      <td>50690</td>\n",
       "      <td>2019</td>\n",
       "      <td>2019-04-27</td>\n",
       "      <td>0</td>\n",
       "      <td>59778</td>\n",
       "      <td>Diesel</td>\n",
       "      <td>automatique</td>\n",
       "      <td>saphirschwarz</td>\n",
       "      <td>...</td>\n",
       "      <td>0</td>\n",
       "      <td>15</td>\n",
       "      <td>258</td>\n",
       "      <td>2.0</td>\n",
       "      <td>149</td>\n",
       "      <td>5.9</td>\n",
       "      <td>EURO6</td>\n",
       "      <td>[pneus roulage à plat, affichage tête haute, p...</td>\n",
       "      <td>31</td>\n",
       "      <td>24</td>\n",
       "    </tr>\n",
       "    <tr>\n",
       "      <th>2</th>\n",
       "      <td>19</td>\n",
       "      <td>BMW SERIE 2 F45 ACTIVE TOURER</td>\n",
       "      <td>19740</td>\n",
       "      <td>2017</td>\n",
       "      <td>2017-05-14</td>\n",
       "      <td>1</td>\n",
       "      <td>128835</td>\n",
       "      <td>Hybrideessenceélectrique</td>\n",
       "      <td>automatique</td>\n",
       "      <td>gris metal</td>\n",
       "      <td>...</td>\n",
       "      <td>0</td>\n",
       "      <td>5</td>\n",
       "      <td>136</td>\n",
       "      <td>1.0</td>\n",
       "      <td>49</td>\n",
       "      <td>2.0</td>\n",
       "      <td>EURO6</td>\n",
       "      <td>[airbags latéraux, \"assistance au freinage dur...</td>\n",
       "      <td>94</td>\n",
       "      <td>6</td>\n",
       "    </tr>\n",
       "    <tr>\n",
       "      <th>3</th>\n",
       "      <td>8</td>\n",
       "      <td>RENAULT TRAFIC 2 MINIBUS</td>\n",
       "      <td>13890</td>\n",
       "      <td>2007</td>\n",
       "      <td>2007-11-05</td>\n",
       "      <td>1</td>\n",
       "      <td>225334</td>\n",
       "      <td>Diesel</td>\n",
       "      <td>mécanique</td>\n",
       "      <td>gris f</td>\n",
       "      <td>...</td>\n",
       "      <td>0</td>\n",
       "      <td>9</td>\n",
       "      <td>135</td>\n",
       "      <td>3.0</td>\n",
       "      <td>197</td>\n",
       "      <td>7.4</td>\n",
       "      <td>EURO4</td>\n",
       "      <td>[abs, peinture métallisée, système audio cd, 6...</td>\n",
       "      <td>28</td>\n",
       "      <td>6</td>\n",
       "    </tr>\n",
       "    <tr>\n",
       "      <th>4</th>\n",
       "      <td>60</td>\n",
       "      <td>CITROEN C3 (3E GENERATION)</td>\n",
       "      <td>16780</td>\n",
       "      <td>2020</td>\n",
       "      <td>2021-01-20</td>\n",
       "      <td>0</td>\n",
       "      <td>14218</td>\n",
       "      <td>Essence</td>\n",
       "      <td>mécanique</td>\n",
       "      <td>gris foncé</td>\n",
       "      <td>...</td>\n",
       "      <td>0</td>\n",
       "      <td>5</td>\n",
       "      <td>110</td>\n",
       "      <td>1.0</td>\n",
       "      <td>104</td>\n",
       "      <td>4.7</td>\n",
       "      <td>EURO6</td>\n",
       "      <td>[airbags rideaux, esp, détection panneaux sign...</td>\n",
       "      <td>61</td>\n",
       "      <td>12</td>\n",
       "    </tr>\n",
       "  </tbody>\n",
       "</table>\n",
       "<p>5 rows × 23 columns</p>\n",
       "</div>"
      ],
      "text/plain": [
       "   published since                          car model  price  year  \\\n",
       "0                2                   RENAULT TWINGO 3  11080  2020   \n",
       "1                5         BMW SERIE 4 F36 GRAN COUPE  50690  2019   \n",
       "2               19      BMW SERIE 2 F45 ACTIVE TOURER  19740  2017   \n",
       "3                8           RENAULT TRAFIC 2 MINIBUS  13890  2007   \n",
       "4               60         CITROEN C3 (3E GENERATION)  16780  2020   \n",
       "\n",
       "  first registrarion date needs a technical check  mileage meter  \\\n",
       "0              2020-07-17                       0          27297   \n",
       "1              2019-04-27                       0          59778   \n",
       "2              2017-05-14                       1         128835   \n",
       "3              2007-11-05                       1         225334   \n",
       "4              2021-01-20                       0          14218   \n",
       "\n",
       "                energy type    speed box         colour  ...  first hand  \\\n",
       "0                   Essence    mécanique           gris  ...           1   \n",
       "1                    Diesel  automatique  saphirschwarz  ...           0   \n",
       "2  Hybrideessenceélectrique  automatique     gris metal  ...           0   \n",
       "3                    Diesel    mécanique         gris f  ...           0   \n",
       "4                   Essence    mécanique     gris foncé  ...           0   \n",
       "\n",
       "   power classification  horsepower  air pollution metric  CO2 emission  \\\n",
       "0                     5          90                   1.0           111   \n",
       "1                    15         258                   2.0           149   \n",
       "2                     5         136                   1.0            49   \n",
       "3                     9         135                   3.0           197   \n",
       "4                     5         110                   1.0           104   \n",
       "\n",
       "   consumption euro norm                                            options  \\\n",
       "0          4.9     EURO6  [airbags frontaux, esp, afu, fixations isofix,...   \n",
       "1          5.9     EURO6  [pneus roulage à plat, affichage tête haute, p...   \n",
       "2          2.0     EURO6  [airbags latéraux, \"assistance au freinage dur...   \n",
       "3          7.4     EURO4  [abs, peinture métallisée, système audio cd, 6...   \n",
       "4          4.7     EURO6  [airbags rideaux, esp, détection panneaux sign...   \n",
       "\n",
       "   departement waranty  \n",
       "0           35      12  \n",
       "1           31      24  \n",
       "2           94       6  \n",
       "3           28       6  \n",
       "4           61      12  \n",
       "\n",
       "[5 rows x 23 columns]"
      ]
     },
     "execution_count": 996,
     "metadata": {},
     "output_type": "execute_result"
    }
   ],
   "source": [
    "data.head()"
   ]
  },
  {
   "cell_type": "code",
   "execution_count": 997,
   "id": "af24e829-3478-4ef4-9580-4fb5c1a4b61f",
   "metadata": {},
   "outputs": [],
   "source": [
    "data = data.replace(-1, np.nan).replace('-1', np.nan)"
   ]
  },
  {
   "cell_type": "markdown",
   "id": "41a1e505-fb56-4167-ad7b-9a14d4494750",
   "metadata": {},
   "source": [
    "Меняем все значения _'-1'_ меняем на _Nan_, так как раньше мы все пропуски записали как _'-1'_.\n",
    "\n",
    "Теперь мы имеем датасет, с которым можно работать аналитически."
   ]
  },
  {
   "cell_type": "markdown",
   "id": "09535e0c-2101-45d6-823a-53f9e627d06f",
   "metadata": {},
   "source": [
    "# 2. Обработка пропусков\n",
    "\n",
    "Для обработки пропусков и удобной дальнейшей работы разобьем все факторы на категориальные, числовые и строковые."
   ]
  },
  {
   "cell_type": "code",
   "execution_count": 998,
   "id": "33634c49-d54c-4ffc-bcdb-f45006b4acb7",
   "metadata": {},
   "outputs": [],
   "source": [
    "cat_params = ['energy type', 'speed box', 'air pollution metric',\n",
    "              'departement', 'needs a technical check',  'first hand',\n",
    "             'euro norm', 'number of doors', 'number of places']\n",
    "num_params = ['published since', 'price', 'year', 'mileage meter', 'garantie',\n",
    "             'horsepower', 'CO2 emission', 'waranty','consumption', 'power classification']\n",
    "string_params = ['car model', 'colour']\n",
    "other_params = ['date', 'options']"
   ]
  },
  {
   "cell_type": "markdown",
   "id": "912f5d08-2b4a-477b-91b8-7fcf5f6ef50f",
   "metadata": {},
   "source": [
    "Пропуски во всех категориальных факторов мы заменим на моду. Пропуски числовых фичей заполним медианой.  "
   ]
  },
  {
   "cell_type": "code",
   "execution_count": 999,
   "id": "a418c08d-1d9c-4450-ba73-114446945a76",
   "metadata": {},
   "outputs": [
    {
     "name": "stderr",
     "output_type": "stream",
     "text": [
      "/Users/vaneque/opt/anaconda3/lib/python3.8/site-packages/pandas/core/series.py:4463: SettingWithCopyWarning: \n",
      "A value is trying to be set on a copy of a slice from a DataFrame\n",
      "\n",
      "See the caveats in the documentation: https://pandas.pydata.org/pandas-docs/stable/user_guide/indexing.html#returning-a-view-versus-a-copy\n",
      "  return super().fillna(\n"
     ]
    }
   ],
   "source": [
    "data[num_params].fillna(data[num_params].mean(), inplace = True)\n",
    "for i in data[cat_params].mode():\n",
    "    data[i] = data[i].fillna(data[cat_params].mode()[i][0])"
   ]
  },
  {
   "cell_type": "code",
   "execution_count": 1000,
   "id": "bc3a7c4e-7cd8-4c96-9b19-0205700e766a",
   "metadata": {},
   "outputs": [
    {
     "name": "stdout",
     "output_type": "stream",
     "text": [
      "<class 'pandas.core.frame.DataFrame'>\n",
      "RangeIndex: 2441 entries, 0 to 2440\n",
      "Data columns (total 23 columns):\n",
      " #   Column                   Non-Null Count  Dtype         \n",
      "---  ------                   --------------  -----         \n",
      " 0   published since          2441 non-null   int64         \n",
      " 1   car model                2441 non-null   object        \n",
      " 2   price                    2441 non-null   int64         \n",
      " 3   year                     2440 non-null   float64       \n",
      " 4   first registrarion date  2440 non-null   datetime64[ns]\n",
      " 5   needs a technical check  2441 non-null   object        \n",
      " 6   mileage meter            2440 non-null   float64       \n",
      " 7   energy type              2441 non-null   object        \n",
      " 8   speed box                2441 non-null   object        \n",
      " 9   colour                   2441 non-null   object        \n",
      " 10  number of doors          2441 non-null   float64       \n",
      " 11  number of places         2441 non-null   float64       \n",
      " 12  garantie                 2062 non-null   float64       \n",
      " 13  first hand               2441 non-null   float64       \n",
      " 14  power classification     2434 non-null   float64       \n",
      " 15  horsepower               2370 non-null   float64       \n",
      " 16  air pollution metric     2441 non-null   object        \n",
      " 17  CO2 emission             2234 non-null   float64       \n",
      " 18  consumption              2124 non-null   float64       \n",
      " 19  euro norm                2441 non-null   object        \n",
      " 20  options                  2441 non-null   object        \n",
      " 21  departement              2441 non-null   int64         \n",
      " 22  waranty                  2062 non-null   float64       \n",
      "dtypes: datetime64[ns](1), float64(11), int64(3), object(8)\n",
      "memory usage: 438.7+ KB\n"
     ]
    }
   ],
   "source": [
    "data.info()"
   ]
  },
  {
   "cell_type": "markdown",
   "id": "2bd8807a-2951-43c2-b445-2b4fb0fa3313",
   "metadata": {},
   "source": [
    "Единсветнный пропуск по дате мы просто удалим."
   ]
  },
  {
   "cell_type": "code",
   "execution_count": 1001,
   "id": "821d0e39-e49f-4c08-8f77-56bce79eb4b4",
   "metadata": {},
   "outputs": [],
   "source": [
    "data.dropna(inplace = True)"
   ]
  },
  {
   "cell_type": "code",
   "execution_count": 1002,
   "id": "817cda52-8e11-48de-9b70-2c1d5b693d82",
   "metadata": {},
   "outputs": [
    {
     "name": "stdout",
     "output_type": "stream",
     "text": [
      "<class 'pandas.core.frame.DataFrame'>\n",
      "Int64Index: 1801 entries, 0 to 2440\n",
      "Data columns (total 23 columns):\n",
      " #   Column                   Non-Null Count  Dtype         \n",
      "---  ------                   --------------  -----         \n",
      " 0   published since          1801 non-null   int64         \n",
      " 1   car model                1801 non-null   object        \n",
      " 2   price                    1801 non-null   int64         \n",
      " 3   year                     1801 non-null   float64       \n",
      " 4   first registrarion date  1801 non-null   datetime64[ns]\n",
      " 5   needs a technical check  1801 non-null   object        \n",
      " 6   mileage meter            1801 non-null   float64       \n",
      " 7   energy type              1801 non-null   object        \n",
      " 8   speed box                1801 non-null   object        \n",
      " 9   colour                   1801 non-null   object        \n",
      " 10  number of doors          1801 non-null   float64       \n",
      " 11  number of places         1801 non-null   float64       \n",
      " 12  garantie                 1801 non-null   float64       \n",
      " 13  first hand               1801 non-null   float64       \n",
      " 14  power classification     1801 non-null   float64       \n",
      " 15  horsepower               1801 non-null   float64       \n",
      " 16  air pollution metric     1801 non-null   object        \n",
      " 17  CO2 emission             1801 non-null   float64       \n",
      " 18  consumption              1801 non-null   float64       \n",
      " 19  euro norm                1801 non-null   object        \n",
      " 20  options                  1801 non-null   object        \n",
      " 21  departement              1801 non-null   int64         \n",
      " 22  waranty                  1801 non-null   float64       \n",
      "dtypes: datetime64[ns](1), float64(11), int64(3), object(8)\n",
      "memory usage: 337.7+ KB\n"
     ]
    }
   ],
   "source": [
    "data.info()"
   ]
  },
  {
   "cell_type": "markdown",
   "id": "167bafc0-2196-4004-aa01-692d13b8f021",
   "metadata": {},
   "source": [
    "# 3. Формирование новых признаков.\n",
    "\n",
    "Из параметра _'car model'_ мы можем получить новый - марка автомобиля, так и поступим."
   ]
  },
  {
   "cell_type": "code",
   "execution_count": 1003,
   "id": "1b905843-5ff3-4c7b-8e15-bc0377a3aa3c",
   "metadata": {},
   "outputs": [
    {
     "data": {
      "text/plain": [
       "0       RENAULT\n",
       "1           BMW\n",
       "2           BMW\n",
       "3       RENAULT\n",
       "4       CITROEN\n",
       "         ...   \n",
       "2436     TOYOTA\n",
       "2437    PORSCHE\n",
       "2438    CITROEN\n",
       "2439       AUDI\n",
       "2440       SEAT\n",
       "Name: mark, Length: 1801, dtype: object"
      ]
     },
     "execution_count": 1003,
     "metadata": {},
     "output_type": "execute_result"
    }
   ],
   "source": [
    "data['mark'] = data['car model'].apply(lambda s: s.strip().split()[0])\n",
    "cat_params.append('mark')\n",
    "data['mark']\n"
   ]
  },
  {
   "cell_type": "markdown",
   "id": "35c64eef-5d61-4499-a715-f9a707189ab9",
   "metadata": {},
   "source": [
    "# 4. Анализ факторов\n",
    "\n",
    "## Таблица факторов\n",
    "\n",
    "Информация взята из источника и самостоятельного анализа.\n",
    "\n",
    "| № п.п. | Параметр | Описание | Тип данных | \n",
    "| -:- | --- | --- | --- | \n",
    "| 0 | published since   | date of first publication of the advertisement | number | \n",
    "| 1 | car model   |  contains the make and model name of the car | string | \n",
    "| 2 | price   |  price of the car | number |\n",
    "| 3 | year   |  year of first registration | number |\n",
    "| 4 | first registrarion date   |  date of first registration | date |\n",
    "| 5 | needs a technical check   |  the car requires a technical check | binary (categorial) |\n",
    "| 6 | mileage meter   | Number of km the car has on the odometer  | number |\n",
    "| 7 | energy type   |  Car energy | categorial |\n",
    "| 8 | speed box   | Gearbox type  | categorial |\n",
    "| 9 | number of doors   |  Car's number of door | number |\n",
    "| 10 | number of places   |  Car's number of seats | number |\n",
    "| 11 | garantie   |  How long the car is guaranted | number |\n",
    "| 12 | first hand    |  Is the car first hand | binary (categorial)|\n",
    "| 13 | power classification   |  french metric of car power | categorial |\n",
    "| 14 | horsepower   |  car power | number |\n",
    "| 15 | air pollution metric   |  french metric to assess assess pollution 1 good, 4 bad | categorial |\n",
    "| 16 | CO2 emission   |  CO2 emission | number |\n",
    "| 17 | consumption  |  Energy consumption per 100km | categorial |\n",
    "| 18 | euro norm   |  euro norm | categoral |\n",
    "| 19 | options   | An array of options availaible with the car | list |\n",
    "| 20 | departement  | french district | categorial |\n",
    "| 21 | waranty  |  warranty in months | number |\n",
    "| 22 | colour  |  Outside car color | string |\n",
    "| 23 | options  | An array of options availaible with the car | list |\n",
    "| 24 | mark  | car producer company  | string |"
   ]
  },
  {
   "cell_type": "markdown",
   "id": "9867170d-9f0c-4344-bbc6-9fedd86c9f42",
   "metadata": {},
   "source": [
    "Разобьем все факторы на подгруппы по типу данных. Пропуски в каждой группе будем заполнять по-разному: категориальные признаки - модой, числовые - медианой, по другим параметрам просто удалим строки."
   ]
  },
  {
   "cell_type": "code",
   "execution_count": 1004,
   "id": "acd62f94-c262-46f7-870f-ad26983fabeb",
   "metadata": {},
   "outputs": [
    {
     "name": "stdout",
     "output_type": "stream",
     "text": [
      "<class 'pandas.core.frame.DataFrame'>\n",
      "Int64Index: 1801 entries, 0 to 2440\n",
      "Data columns (total 24 columns):\n",
      " #   Column                   Non-Null Count  Dtype         \n",
      "---  ------                   --------------  -----         \n",
      " 0   published since          1801 non-null   int64         \n",
      " 1   car model                1801 non-null   object        \n",
      " 2   price                    1801 non-null   int64         \n",
      " 3   year                     1801 non-null   float64       \n",
      " 4   first registrarion date  1801 non-null   datetime64[ns]\n",
      " 5   needs a technical check  1801 non-null   object        \n",
      " 6   mileage meter            1801 non-null   float64       \n",
      " 7   energy type              1801 non-null   object        \n",
      " 8   speed box                1801 non-null   object        \n",
      " 9   colour                   1801 non-null   object        \n",
      " 10  number of doors          1801 non-null   float64       \n",
      " 11  number of places         1801 non-null   float64       \n",
      " 12  garantie                 1801 non-null   float64       \n",
      " 13  first hand               1801 non-null   float64       \n",
      " 14  power classification     1801 non-null   float64       \n",
      " 15  horsepower               1801 non-null   float64       \n",
      " 16  air pollution metric     1801 non-null   object        \n",
      " 17  CO2 emission             1801 non-null   float64       \n",
      " 18  consumption              1801 non-null   float64       \n",
      " 19  euro norm                1801 non-null   object        \n",
      " 20  options                  1801 non-null   object        \n",
      " 21  departement              1801 non-null   int64         \n",
      " 22  waranty                  1801 non-null   float64       \n",
      " 23  mark                     1801 non-null   object        \n",
      "dtypes: datetime64[ns](1), float64(11), int64(3), object(9)\n",
      "memory usage: 351.8+ KB\n"
     ]
    }
   ],
   "source": [
    "data.info()"
   ]
  },
  {
   "cell_type": "markdown",
   "id": "7da844df-09a2-4552-9219-6240f13a338b",
   "metadata": {},
   "source": [
    "Для каждого фактора построим гистограмму распределения и попробуем сделать какие-то выводы."
   ]
  },
  {
   "cell_type": "code",
   "execution_count": 1005,
   "id": "885adc4e-7b4b-4b25-9ffd-cd195898b124",
   "metadata": {},
   "outputs": [
    {
     "data": {
      "image/png": "[encoded data removed]",
      "text/plain": [
       "<Figure size 432x288 with 1 Axes>"
      ]
     },
     "metadata": {
      "needs_background": "light"
     },
     "output_type": "display_data"
    }
   ],
   "source": [
    "sns.barplot(y='index', x='mark', data=data['mark'].str.strip().value_counts().reset_index().head(20), orient = 'h');\n",
    "plt.xlabel('Number of cars')\n",
    "plt.ylabel('Car mark');"
   ]
  },
  {
   "cell_type": "code",
   "execution_count": 1006,
   "id": "ff8a62f1-e417-4e8d-8d55-d7be05e5346b",
   "metadata": {},
   "outputs": [
    {
     "data": {
      "image/png": "[encoded data removed]",
      "text/plain": [
       "<Figure size 432x288 with 1 Axes>"
      ]
     },
     "metadata": {
      "needs_background": "light"
     },
     "output_type": "display_data"
    },
    {
     "data": {
      "image/png": "[encoded data removed]",
      "text/plain": [
       "<Figure size 432x288 with 1 Axes>"
      ]
     },
     "metadata": {
      "needs_background": "light"
     },
     "output_type": "display_data"
    },
    {
     "data": {
      "image/png": "[encoded data removed]",
      "text/plain": [
       "<Figure size 432x288 with 1 Axes>"
      ]
     },
     "metadata": {
      "needs_background": "light"
     },
     "output_type": "display_data"
    },
    {
     "data": {
      "image/png": "[encoded data removed]",
      "text/plain": [
       "<Figure size 432x288 with 1 Axes>"
      ]
     },
     "metadata": {
      "needs_background": "light"
     },
     "output_type": "display_data"
    },
    {
     "data": {
      "image/png": "[encoded data removed]",
      "text/plain": [
       "<Figure size 432x288 with 1 Axes>"
      ]
     },
     "metadata": {
      "needs_background": "light"
     },
     "output_type": "display_data"
    },
    {
     "data": {
      "image/png": "[encoded data removed]",
      "text/plain": [
       "<Figure size 432x288 with 1 Axes>"
      ]
     },
     "metadata": {
      "needs_background": "light"
     },
     "output_type": "display_data"
    },
    {
     "data": {
      "image/png": "[encoded data removed]",
      "text/plain": [
       "<Figure size 432x288 with 1 Axes>"
      ]
     },
     "metadata": {
      "needs_background": "light"
     },
     "output_type": "display_data"
    },
    {
     "data": {
      "image/png": "[encoded data removed]",
      "text/plain": [
       "<Figure size 432x288 with 1 Axes>"
      ]
     },
     "metadata": {
      "needs_background": "light"
     },
     "output_type": "display_data"
    },
    {
     "data": {
      "image/png": "[encoded data removed]",
      "text/plain": [
       "<Figure size 432x288 with 1 Axes>"
      ]
     },
     "metadata": {
      "needs_background": "light"
     },
     "output_type": "display_data"
    },
    {
     "data": {
      "image/png": "[encoded data removed]",
      "text/plain": [
       "<Figure size 432x288 with 1 Axes>"
      ]
     },
     "metadata": {
      "needs_background": "light"
     },
     "output_type": "display_data"
    },
    {
     "data": {
      "image/png": "[encoded data removed]",
      "text/plain": [
       "<Figure size 432x288 with 1 Axes>"
      ]
     },
     "metadata": {
      "needs_background": "light"
     },
     "output_type": "display_data"
    },
    {
     "data": {
      "image/png": "[encoded data removed]",
      "text/plain": [
       "<Figure size 432x288 with 1 Axes>"
      ]
     },
     "metadata": {
      "needs_background": "light"
     },
     "output_type": "display_data"
    },
    {
     "data": {
      "image/png": "[encoded data removed]",
      "text/plain": [
       "<Figure size 432x288 with 1 Axes>"
      ]
     },
     "metadata": {
      "needs_background": "light"
     },
     "output_type": "display_data"
    },
    {
     "data": {
      "image/png": "[encoded data removed]",
      "text/plain": [
       "<Figure size 432x288 with 1 Axes>"
      ]
     },
     "metadata": {
      "needs_background": "light"
     },
     "output_type": "display_data"
    },
    {
     "data": {
      "image/png": "[encoded data removed]",
      "text/plain": [
       "<Figure size 432x288 with 1 Axes>"
      ]
     },
     "metadata": {
      "needs_background": "light"
     },
     "output_type": "display_data"
    },
    {
     "data": {
      "image/png": "[encoded data removed]",
      "text/plain": [
       "<Figure size 432x288 with 1 Axes>"
      ]
     },
     "metadata": {
      "needs_background": "light"
     },
     "output_type": "display_data"
    },
    {
     "data": {
      "image/png": "[encoded data removed]",
      "text/plain": [
       "<Figure size 432x288 with 1 Axes>"
      ]
     },
     "metadata": {
      "needs_background": "light"
     },
     "output_type": "display_data"
    },
    {
     "data": {
      "image/png": "[encoded data removed]",
      "text/plain": [
       "<Figure size 432x288 with 1 Axes>"
      ]
     },
     "metadata": {
      "needs_background": "light"
     },
     "output_type": "display_data"
    },
    {
     "data": {
      "image/png": "[encoded data removed]",
      "text/plain": [
       "<Figure size 432x288 with 1 Axes>"
      ]
     },
     "metadata": {
      "needs_background": "light"
     },
     "output_type": "display_data"
    },
    {
     "data": {
      "image/png": "[encoded data removed]",
      "text/plain": [
       "<Figure size 432x288 with 1 Axes>"
      ]
     },
     "metadata": {
      "needs_background": "light"
     },
     "output_type": "display_data"
    }
   ],
   "source": [
    "for col in num_params:\n",
    "    plt.hist(data[col], color='orange', ec='black', orientation = 'horizontal', bins = 20)\n",
    "    plt.title(f'Distribution of {col}')\n",
    "    plt.show()\n",
    "    \n",
    "for col in cat_params:\n",
    "    data[col].value_counts()[:min(data[col].value_counts().shape[0], 20)].plot.barh(color='orange', ec='black' , orientation='horizontal')\n",
    "    plt.title(f'Distribution of {col}')\n",
    "    plt.show()"
   ]
  },
  {
   "cell_type": "markdown",
   "id": "b95e866b-9a3f-464b-82c5-14a81167e371",
   "metadata": {},
   "source": [
    "1. Влияние факторов на цену\n",
    "2. Тренды\n",
    "3. Различие цен в разных регионах"
   ]
  },
  {
   "cell_type": "code",
   "execution_count": null,
   "id": "4dcbcbb1-0c8f-4be2-ba67-05ad8ab13a7b",
   "metadata": {},
   "outputs": [],
   "source": []
  },
  {
   "cell_type": "code",
   "execution_count": null,
   "id": "a368cc4f-a739-4feb-9973-abc5884165b0",
   "metadata": {},
   "outputs": [],
   "source": []
  },
  {
   "cell_type": "code",
   "execution_count": null,
   "id": "c64ce6a5-e2bb-40aa-b592-92b6742c03ef",
   "metadata": {},
   "outputs": [],
   "source": []
  },
  {
   "cell_type": "code",
   "execution_count": null,
   "id": "36238321-5229-42ac-8a27-3ba6ded7eff4",
   "metadata": {},
   "outputs": [],
   "source": []
  },
  {
   "cell_type": "code",
   "execution_count": null,
   "id": "545884d5-1a23-4f44-be7c-86b1cc1122fc",
   "metadata": {},
   "outputs": [],
   "source": []
  },
  {
   "cell_type": "code",
   "execution_count": null,
   "id": "aaad6e10-0d9a-4d26-af90-fa024a6908cc",
   "metadata": {},
   "outputs": [],
   "source": []
  },
  {
   "cell_type": "code",
   "execution_count": null,
   "id": "8f96f579-6209-45cb-8878-6408b3675b96",
   "metadata": {},
   "outputs": [],
   "source": []
  },
  {
   "cell_type": "code",
   "execution_count": null,
   "id": "0f8afd50-b4e9-4f10-8432-f4b7be5a2690",
   "metadata": {},
   "outputs": [],
   "source": []
  },
  {
   "cell_type": "code",
   "execution_count": null,
   "id": "9d2732f2-1468-4f19-9286-a9c919b3ddbf",
   "metadata": {},
   "outputs": [],
   "source": []
  },
  {
   "cell_type": "code",
   "execution_count": null,
   "id": "88d8aee2-ffce-4359-84ba-e810f7554311",
   "metadata": {},
   "outputs": [],
   "source": []
  },
  {
   "cell_type": "code",
   "execution_count": null,
   "id": "1f6de181-ad77-41b5-ae53-6165ed801d41",
   "metadata": {},
   "outputs": [],
   "source": []
  },
  {
   "cell_type": "code",
   "execution_count": 1007,
   "id": "65b0b44c-58da-426b-8d34-63078dc34b7c",
   "metadata": {},
   "outputs": [
    {
     "data": {
      "text/plain": [
       "('vitres ar. surteintées', 390)"
      ]
     },
     "execution_count": 1007,
     "metadata": {},
     "output_type": "execute_result"
    }
   ],
   "source": [
    "options = []\n",
    "for opt in data['options']:\n",
    "    options += opt\n",
    "s = collections.Counter(options)\n",
    "\n",
    "sorted(s.items(), key = lambda s : s[1], reverse = True)[50]"
   ]
  },
  {
   "cell_type": "code",
   "execution_count": 1008,
   "id": "4cc1535d-f92c-44e8-b395-7d02b0d0bb40",
   "metadata": {},
   "outputs": [
    {
     "name": "stdout",
     "output_type": "stream",
     "text": [
      "<class 'pandas.core.frame.DataFrame'>\n",
      "Int64Index: 1801 entries, 0 to 2440\n",
      "Data columns (total 24 columns):\n",
      " #   Column                   Non-Null Count  Dtype         \n",
      "---  ------                   --------------  -----         \n",
      " 0   published since          1801 non-null   int64         \n",
      " 1   car model                1801 non-null   object        \n",
      " 2   price                    1801 non-null   int64         \n",
      " 3   year                     1801 non-null   float64       \n",
      " 4   first registrarion date  1801 non-null   datetime64[ns]\n",
      " 5   needs a technical check  1801 non-null   object        \n",
      " 6   mileage meter            1801 non-null   float64       \n",
      " 7   energy type              1801 non-null   object        \n",
      " 8   speed box                1801 non-null   object        \n",
      " 9   colour                   1801 non-null   object        \n",
      " 10  number of doors          1801 non-null   float64       \n",
      " 11  number of places         1801 non-null   float64       \n",
      " 12  garantie                 1801 non-null   float64       \n",
      " 13  first hand               1801 non-null   float64       \n",
      " 14  power classification     1801 non-null   float64       \n",
      " 15  horsepower               1801 non-null   float64       \n",
      " 16  air pollution metric     1801 non-null   object        \n",
      " 17  CO2 emission             1801 non-null   float64       \n",
      " 18  consumption              1801 non-null   float64       \n",
      " 19  euro norm                1801 non-null   object        \n",
      " 20  options                  1801 non-null   object        \n",
      " 21  departement              1801 non-null   int64         \n",
      " 22  waranty                  1801 non-null   float64       \n",
      " 23  mark                     1801 non-null   object        \n",
      "dtypes: datetime64[ns](1), float64(11), int64(3), object(9)\n",
      "memory usage: 351.8+ KB\n"
     ]
    }
   ],
   "source": [
    "data.info()"
   ]
  },
  {
   "cell_type": "code",
   "execution_count": null,
   "id": "c8d2cb7e-faa4-4033-bdd1-e4c26e3d0143",
   "metadata": {},
   "outputs": [],
   "source": []
  }
 ],
 "metadata": {
  "kernelspec": {
   "display_name": "Python 3",
   "language": "python",
   "name": "python3"
  },
  "language_info": {
   "codemirror_mode": {
    "name": "ipython",
    "version": 3
   },
   "file_extension": ".py",
   "mimetype": "text/x-python",
   "name": "python",
   "nbconvert_exporter": "python",
   "pygments_lexer": "ipython3",
   "version": "3.8.8"
  }
 },
 "nbformat": 4,
 "nbformat_minor": 5
}
